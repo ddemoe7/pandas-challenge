{
 "cells": [
  {
   "cell_type": "code",
   "execution_count": 3,
   "id": "cd5ab6c5",
   "metadata": {},
   "outputs": [],
   "source": [
    "#Import Dependencies\n",
    "\n",
    "import os\n",
    "import pandas as pd\n",
    "import numpy as np\n",
    "import matplotlib.pyplot as plt"
   ]
  },
  {
   "cell_type": "code",
   "execution_count": 10,
   "id": "806b1323",
   "metadata": {},
   "outputs": [],
   "source": [
    "#Path to csv\n",
    "#In the resources folder - renamed file\n",
    "schools_csv = os.path.join(\"..\", \"Resources\", \"schools_complete.csv\")\n",
    "students_csv = os.path.join(\"..\", \"Resources\", \"students_complete.csv\")\n",
    "\n",
    "#New files as dataframes\n",
    "schools_df = pd.read_csv(schools_csv)\n",
    "students_df = pd.read_csv(students_csv)\n",
    "\n",
    "#Print to check\n",
    "#schools_df.head()\n",
    "#students_df.head()"
   ]
  },
  {
   "cell_type": "code",
   "execution_count": null,
   "id": "b2aab660",
   "metadata": {},
   "outputs": [],
   "source": []
  }
 ],
 "metadata": {
  "kernelspec": {
   "display_name": "Python 3",
   "language": "python",
   "name": "python3"
  },
  "language_info": {
   "codemirror_mode": {
    "name": "ipython",
    "version": 3
   },
   "file_extension": ".py",
   "mimetype": "text/x-python",
   "name": "python",
   "nbconvert_exporter": "python",
   "pygments_lexer": "ipython3",
   "version": "3.8.8"
  }
 },
 "nbformat": 4,
 "nbformat_minor": 5
}
